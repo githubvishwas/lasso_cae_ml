{
 "cells": [
  {
   "cell_type": "code",
   "execution_count": 1,
   "metadata": {},
   "outputs": [
    {
     "data": {
      "text/plain": [
       "100"
      ]
     },
     "execution_count": 1,
     "metadata": {},
     "output_type": "execute_result"
    }
   ],
   "source": [
    "# find simulation files\n",
    "import glob\n",
    "filepath_list = glob.glob(\"exercise-1/d3plots/*.d3plot\")\n",
    "len(filepath_list)"
   ]
  },
  {
   "cell_type": "code",
   "execution_count": 2,
   "metadata": {},
   "outputs": [
    {
     "name": "stdout",
     "output_type": "stream",
     "text": [
      "timesteps, nodes, xyz\n",
      "(5, 2500, 3)\n",
      "n_simulations 100\n"
     ]
    }
   ],
   "source": [
    "# data extraction\n",
    "from lasso.dyna import D3plot\n",
    "# pip install lasso-python\n",
    "\n",
    "# just for info\n",
    "d3plot = D3plot(filepath_list[0])\n",
    "d3plot.arrays[\"node_displacement\"].shape\n",
    "print(\"timesteps, nodes, xyz\")\n",
    "print(d3plot.arrays[\"node_displacement\"].shape)\n",
    "\n",
    "fields = []\n",
    "last_timestep = -1\n",
    "\n",
    "for filepath in filepath_list:\n",
    "    # open file\n",
    "    d3plot = D3plot(filepath)\n",
    "    \n",
    "    # extract result field\n",
    "    node_displacement = d3plot.arrays[\"node_displacement\"][last_timestep]\n",
    "    \n",
    "    # collect in list\n",
    "    fields.append(node_displacement)\n",
    "    \n",
    "print(\"n_simulations\", len(fields))"
   ]
  },
  {
   "cell_type": "code",
   "execution_count": 3,
   "metadata": {},
   "outputs": [
    {
     "data": {
      "text/plain": [
       "(100, 7500)"
      ]
     },
     "execution_count": 3,
     "metadata": {},
     "output_type": "execute_result"
    }
   ],
   "source": [
    "import numpy as np\n",
    "\n",
    "# stack arrays and bring them into form\n",
    "data = np.stack(fields)\n",
    "data = data.reshape((100, 2500*3))\n",
    "data.shape"
   ]
  },
  {
   "cell_type": "code",
   "execution_count": 13,
   "metadata": {},
   "outputs": [
    {
     "data": {
      "text/plain": [
       "MDS(n_components=3)"
      ]
     },
     "execution_count": 13,
     "metadata": {},
     "output_type": "execute_result"
    }
   ],
   "source": [
    "from sklearn.decomposition import PCA\n",
    "from sklearn.manifold import LocallyLinearEmbedding, MDS\n",
    "# pip install sklearn\n",
    "\n",
    "# reduce dimensions to 3 for plotting\n",
    "#model = PCA(n_components=3)\n",
    "#model.fit(data)\n",
    "\n",
    "#model = LocallyLinearEmbedding(n_components=3)\n",
    "#model.fit(data)\n",
    "\n",
    "model = MDS(n_components=3)\n",
    "model.fit(data)"
   ]
  },
  {
   "cell_type": "code",
   "execution_count": 11,
   "metadata": {},
   "outputs": [
    {
     "ename": "AttributeError",
     "evalue": "'LocallyLinearEmbedding' object has no attribute 'singular_values_'",
     "output_type": "error",
     "traceback": [
      "\u001b[1;31m---------------------------------------------------------------------------\u001b[0m",
      "\u001b[1;31mAttributeError\u001b[0m                            Traceback (most recent call last)",
      "\u001b[1;32m<ipython-input-11-dcec6591a2e5>\u001b[0m in \u001b[0;36m<module>\u001b[1;34m\u001b[0m\n\u001b[0;32m      2\u001b[0m \u001b[0mfig\u001b[0m \u001b[1;33m=\u001b[0m \u001b[0mgo\u001b[0m\u001b[1;33m.\u001b[0m\u001b[0mFigureWidget\u001b[0m\u001b[1;33m(\u001b[0m\u001b[1;33m)\u001b[0m\u001b[1;33m\u001b[0m\u001b[1;33m\u001b[0m\u001b[0m\n\u001b[0;32m      3\u001b[0m fig.add_trace(\n\u001b[1;32m----> 4\u001b[1;33m     go.Scatter(x=np.arange(len(model.singular_values_)),\n\u001b[0m\u001b[0;32m      5\u001b[0m                \u001b[0my\u001b[0m\u001b[1;33m=\u001b[0m\u001b[0mmodel\u001b[0m\u001b[1;33m.\u001b[0m\u001b[0msingular_values_\u001b[0m\u001b[1;33m,\u001b[0m\u001b[1;33m\u001b[0m\u001b[1;33m\u001b[0m\u001b[0m\n\u001b[0;32m      6\u001b[0m                \u001b[0mmode\u001b[0m\u001b[1;33m=\u001b[0m\u001b[1;34m'lines+markers'\u001b[0m\u001b[1;33m,\u001b[0m\u001b[1;33m\u001b[0m\u001b[1;33m\u001b[0m\u001b[0m\n",
      "\u001b[1;31mAttributeError\u001b[0m: 'LocallyLinearEmbedding' object has no attribute 'singular_values_'"
     ]
    }
   ],
   "source": [
    "import plotly.graph_objects as go\n",
    "fig = go.FigureWidget()\n",
    "fig.add_trace(\n",
    "    go.Scatter(x=np.arange(len(model.singular_values_)),\n",
    "               y=model.singular_values_,\n",
    "               mode='lines+markers',\n",
    "               name=\"PCA Singular Values\")\n",
    ")\n",
    "\n",
    "fig.show()"
   ]
  },
  {
   "cell_type": "code",
   "execution_count": 19,
   "metadata": {},
   "outputs": [],
   "source": [
    "#data_transformed = model.transform(data)\n",
    "#data_transformed.shape\n",
    "\n",
    "data_x_transformed = model.embedding_"
   ]
  },
  {
   "cell_type": "code",
   "execution_count": 16,
   "metadata": {},
   "outputs": [],
   "source": [
    "import ntpath\n",
    "\n",
    "# collect image data\n",
    "image_data = {}\n",
    "# {\n",
    "#   14: b'38904gjg3j50g9...',\n",
    "#   ...\n",
    "# }\n",
    "\n",
    "# exercise-1/images/14.png\n",
    "# basename: 14.png\n",
    "# split: [\"14\", \"png\"]\n",
    "\n",
    "for img_filepath in glob.glob(\"exercise-1/images/*.png\"):\n",
    "    with open(img_filepath, \"rb\") as fp:\n",
    "        number_txt = ntpath.basename(img_filepath).split(\".\")[0]\n",
    "        run_id = int(number_txt)\n",
    "        image_data[run_id] = fp.read()"
   ]
  },
  {
   "cell_type": "code",
   "execution_count": null,
   "metadata": {},
   "outputs": [],
   "source": []
  },
  {
   "cell_type": "code",
   "execution_count": 20,
   "metadata": {},
   "outputs": [
    {
     "data": {
      "application/vnd.jupyter.widget-view+json": {
       "model_id": "3664471ad4b3480a83c959b277c6afd2",
       "version_major": 2,
       "version_minor": 0
      },
      "text/plain": [
       "HBox(children=(FigureWidget({\n",
       "    'data': [{'hoverinfo': 'text',\n",
       "              'marker': {'size': 5},\n",
       "        …"
      ]
     },
     "metadata": {},
     "output_type": "display_data"
    }
   ],
   "source": [
    "from ipywidgets import Image, Layout, HBox\n",
    "\n",
    "image_widget = Image(\n",
    "    value=image_data[1],\n",
    "    layout=Layout(height=\"500px\", width=\"375px\")\n",
    ")\n",
    "\n",
    "fig = go.FigureWidget(\n",
    "    data=[\n",
    "        dict(\n",
    "            type=\"scatter3d\",\n",
    "            x=data_transformed[:, 0],\n",
    "            y=data_transformed[:, 1],\n",
    "            z=data_transformed[:, 2],\n",
    "            mode=\"markers\",\n",
    "            marker= {\n",
    "                \"size\": 5\n",
    "            },\n",
    "            hoverinfo=\"text\",\n",
    "            text=filepath_list,\n",
    "        )\n",
    "    ]\n",
    ")\n",
    "\n",
    "def hover_fn(trace, points, state):\n",
    "    \n",
    "    ind = points.point_inds[0]\n",
    "    filepath = filepath_list[ind]\n",
    "    # run14.d3plot\n",
    "    # ...\n",
    "    # as before: run14\n",
    "    # 14\n",
    "    number_txt = ntpath.basename(filepath).split(\".\")[0].replace(\"run\",\"\")\n",
    "    run_id = int(number_txt)\n",
    "    image_widget.value = image_data[run_id]\n",
    "\n",
    "# register hove function\n",
    "scatter = fig.data[0]\n",
    "scatter.on_hover(hover_fn)\n",
    "\n",
    "fig.update_layout(\n",
    "    margin=go.layout.Margin(l=0, r=0, b=0, t=0),\n",
    "    hovermode=\"closest\",\n",
    ")\n",
    "\n",
    "HBox([fig, image_widget])"
   ]
  }
 ],
 "metadata": {
  "kernelspec": {
   "display_name": "Python 3",
   "language": "python",
   "name": "python3"
  },
  "language_info": {
   "codemirror_mode": {
    "name": "ipython",
    "version": 3
   },
   "file_extension": ".py",
   "mimetype": "text/x-python",
   "name": "python",
   "nbconvert_exporter": "python",
   "pygments_lexer": "ipython3",
   "version": "3.8.5"
  }
 },
 "nbformat": 4,
 "nbformat_minor": 4
}
