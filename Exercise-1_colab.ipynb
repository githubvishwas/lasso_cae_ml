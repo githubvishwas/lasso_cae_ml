{
  "cells": [
    {
      "cell_type": "markdown",
      "metadata": {
        "id": "view-in-github",
        "colab_type": "text"
      },
      "source": [
        "<a href=\"https://colab.research.google.com/github/githubvishwas/lasso_cae_ml/blob/main/Exercise-1_colab.ipynb\" target=\"_parent\"><img src=\"https://colab.research.google.com/assets/colab-badge.svg\" alt=\"Open In Colab\"/></a>"
      ]
    },
    {
      "cell_type": "code",
      "source": [
        "pip install lasso-python"
      ],
      "metadata": {
        "colab": {
          "base_uri": "https://localhost:8080/"
        },
        "id": "4IsgurRSCgBu",
        "outputId": "56d9ea26-88f5-411a-f9af-27d265a9fcea"
      },
      "execution_count": 3,
      "outputs": [
        {
          "output_type": "stream",
          "name": "stdout",
          "text": [
            "Looking in indexes: https://pypi.org/simple, https://us-python.pkg.dev/colab-wheels/public/simple/\n",
            "Collecting lasso-python\n",
            "  Downloading lasso_python-1.5.2.post1-py3-none-any.whl (23.8 MB)\n",
            "\u001b[K     |████████████████████████████████| 23.8 MB 1.4 MB/s \n",
            "\u001b[?25hRequirement already satisfied: attrs in /usr/local/lib/python3.7/dist-packages (from lasso-python) (22.1.0)\n",
            "Requirement already satisfied: plotly in /usr/local/lib/python3.7/dist-packages (from lasso-python) (5.5.0)\n",
            "Requirement already satisfied: grpcio in /usr/local/lib/python3.7/dist-packages (from lasso-python) (1.49.1)\n",
            "Collecting rich\n",
            "  Downloading rich-12.6.0-py3-none-any.whl (237 kB)\n",
            "\u001b[K     |████████████████████████████████| 237 kB 70.7 MB/s \n",
            "\u001b[?25hRequirement already satisfied: protobuf in /usr/local/lib/python3.7/dist-packages (from lasso-python) (3.17.3)\n",
            "Requirement already satisfied: numpy in /usr/local/lib/python3.7/dist-packages (from lasso-python) (1.21.6)\n",
            "Requirement already satisfied: matplotlib in /usr/local/lib/python3.7/dist-packages (from lasso-python) (3.2.2)\n",
            "Requirement already satisfied: psutil in /usr/local/lib/python3.7/dist-packages (from lasso-python) (5.4.8)\n",
            "Collecting sklearn\n",
            "  Downloading sklearn-0.0.tar.gz (1.1 kB)\n",
            "Requirement already satisfied: h5py>=2.8 in /usr/local/lib/python3.7/dist-packages (from lasso-python) (3.1.0)\n",
            "Requirement already satisfied: scipy in /usr/local/lib/python3.7/dist-packages (from lasso-python) (1.7.3)\n",
            "Requirement already satisfied: flask in /usr/local/lib/python3.7/dist-packages (from lasso-python) (1.1.4)\n",
            "Requirement already satisfied: pandas in /usr/local/lib/python3.7/dist-packages (from lasso-python) (1.3.5)\n",
            "Requirement already satisfied: cached-property in /usr/local/lib/python3.7/dist-packages (from h5py>=2.8->lasso-python) (1.5.2)\n",
            "Requirement already satisfied: itsdangerous<2.0,>=0.24 in /usr/local/lib/python3.7/dist-packages (from flask->lasso-python) (1.1.0)\n",
            "Requirement already satisfied: click<8.0,>=5.1 in /usr/local/lib/python3.7/dist-packages (from flask->lasso-python) (7.1.2)\n",
            "Requirement already satisfied: Jinja2<3.0,>=2.10.1 in /usr/local/lib/python3.7/dist-packages (from flask->lasso-python) (2.11.3)\n",
            "Requirement already satisfied: Werkzeug<2.0,>=0.15 in /usr/local/lib/python3.7/dist-packages (from flask->lasso-python) (1.0.1)\n",
            "Requirement already satisfied: MarkupSafe>=0.23 in /usr/local/lib/python3.7/dist-packages (from Jinja2<3.0,>=2.10.1->flask->lasso-python) (2.0.1)\n",
            "Requirement already satisfied: six>=1.5.2 in /usr/local/lib/python3.7/dist-packages (from grpcio->lasso-python) (1.15.0)\n",
            "Requirement already satisfied: python-dateutil>=2.1 in /usr/local/lib/python3.7/dist-packages (from matplotlib->lasso-python) (2.8.2)\n",
            "Requirement already satisfied: cycler>=0.10 in /usr/local/lib/python3.7/dist-packages (from matplotlib->lasso-python) (0.11.0)\n",
            "Requirement already satisfied: kiwisolver>=1.0.1 in /usr/local/lib/python3.7/dist-packages (from matplotlib->lasso-python) (1.4.4)\n",
            "Requirement already satisfied: pyparsing!=2.0.4,!=2.1.2,!=2.1.6,>=2.0.1 in /usr/local/lib/python3.7/dist-packages (from matplotlib->lasso-python) (3.0.9)\n",
            "Requirement already satisfied: typing-extensions in /usr/local/lib/python3.7/dist-packages (from kiwisolver>=1.0.1->matplotlib->lasso-python) (4.1.1)\n",
            "Requirement already satisfied: pytz>=2017.3 in /usr/local/lib/python3.7/dist-packages (from pandas->lasso-python) (2022.4)\n",
            "Requirement already satisfied: tenacity>=6.2.0 in /usr/local/lib/python3.7/dist-packages (from plotly->lasso-python) (8.1.0)\n",
            "Collecting commonmark<0.10.0,>=0.9.0\n",
            "  Downloading commonmark-0.9.1-py2.py3-none-any.whl (51 kB)\n",
            "\u001b[K     |████████████████████████████████| 51 kB 7.3 MB/s \n",
            "\u001b[?25hRequirement already satisfied: pygments<3.0.0,>=2.6.0 in /usr/local/lib/python3.7/dist-packages (from rich->lasso-python) (2.6.1)\n",
            "Requirement already satisfied: scikit-learn in /usr/local/lib/python3.7/dist-packages (from sklearn->lasso-python) (1.0.2)\n",
            "Requirement already satisfied: threadpoolctl>=2.0.0 in /usr/local/lib/python3.7/dist-packages (from scikit-learn->sklearn->lasso-python) (3.1.0)\n",
            "Requirement already satisfied: joblib>=0.11 in /usr/local/lib/python3.7/dist-packages (from scikit-learn->sklearn->lasso-python) (1.2.0)\n",
            "Building wheels for collected packages: sklearn\n",
            "  Building wheel for sklearn (setup.py) ... \u001b[?25l\u001b[?25hdone\n",
            "  Created wheel for sklearn: filename=sklearn-0.0-py2.py3-none-any.whl size=1310 sha256=244849d443a22b796f711b677d6a5e13c4aed291f2df079103d78e0ba7fe957b\n",
            "  Stored in directory: /root/.cache/pip/wheels/46/ef/c3/157e41f5ee1372d1be90b09f74f82b10e391eaacca8f22d33e\n",
            "Successfully built sklearn\n",
            "Installing collected packages: commonmark, sklearn, rich, lasso-python\n",
            "Successfully installed commonmark-0.9.1 lasso-python-1.5.2.post1 rich-12.6.0 sklearn-0.0\n"
          ]
        }
      ]
    },
    {
      "cell_type": "code",
      "execution_count": 4,
      "metadata": {
        "id": "NbScIE-qAK7G"
      },
      "outputs": [],
      "source": [
        "import matplotlib.pyplot as plt\n",
        "import plotly.graph_objects as go\n",
        "import numpy as np\n",
        "import glob\n",
        "import ntpath\n",
        "from ipywidgets import Image, Layout\n",
        "from lasso.dyna import D3plot, ArrayType\n",
        "from sklearn.decomposition import PCA\n",
        "from sklearn.manifold import LocallyLinearEmbedding, MDS"
      ]
    },
    {
      "cell_type": "code",
      "source": [
        "import os\n",
        "from google.colab import drive\n",
        "MOUNTPOINT = '/content/gdrive'\n",
        "DATADIR = os.path.join(MOUNTPOINT, 'My Drive', 'lasso_python_ml')\n",
        "drive.mount(MOUNTPOINT)"
      ],
      "metadata": {
        "colab": {
          "base_uri": "https://localhost:8080/"
        },
        "id": "7W6hPVv8wjSa",
        "outputId": "fae95412-3e3e-4001-eb90-dbdf2b3b1247"
      },
      "execution_count": 9,
      "outputs": [
        {
          "output_type": "stream",
          "name": "stdout",
          "text": [
            "Mounted at /content/gdrive\n"
          ]
        }
      ]
    },
    {
      "cell_type": "code",
      "execution_count": 16,
      "metadata": {
        "colab": {
          "base_uri": "https://localhost:8080/"
        },
        "id": "qnb2gjAeAK8C",
        "outputId": "fa07b111-8179-4e5d-ac9e-624dc74d2853"
      },
      "outputs": [
        {
          "output_type": "stream",
          "name": "stdout",
          "text": [
            "Found 100 files.\n"
          ]
        }
      ],
      "source": [
        "#filepath_list = glob.glob(\"exercise-1/d3plots/*.d3plot\")\n",
        "filepath_list = glob.glob(DATADIR + \"/exercise-1/d3plots/*.d3plot\")\n",
        "print(f\"Found {len(filepath_list)} files.\")"
      ]
    },
    {
      "cell_type": "code",
      "execution_count": 17,
      "metadata": {
        "colab": {
          "base_uri": "https://localhost:8080/"
        },
        "id": "C-b0ScTBAK8O",
        "outputId": "ebc7c5c1-7bd6-45a9-fcf2-ee16fa5bef0e"
      },
      "outputs": [
        {
          "output_type": "stream",
          "name": "stdout",
          "text": [
            "Done (100/100)\n"
          ]
        }
      ],
      "source": [
        "# we select the last timestep\n",
        "last_timestep = -1\n",
        "\n",
        "# let's collect node displacement from all d3plots\n",
        "fields = []\n",
        "\n",
        "for i_filepath, filepath in enumerate(filepath_list):\n",
        "    \n",
        "    # print progress\n",
        "    print(f\"filepath {filepath} ({i_filepath + 1}/{len(filepath_list)})\", end='\\r')\n",
        "    \n",
        "    # load d3plot\n",
        "    d3plot = D3plot(filepath)\n",
        "    \n",
        "    # extract node displacement at last timestep\n",
        "    node_displacement = d3plot.arrays[ArrayType.node_displacement]\n",
        "    fields.append(node_displacement[last_timestep])\n",
        "\n",
        "# print end\n",
        "print(f\"Done ({i_filepath + 1}/{len(filepath_list)})\")"
      ]
    },
    {
      "cell_type": "code",
      "execution_count": 18,
      "metadata": {
        "colab": {
          "base_uri": "https://localhost:8080/"
        },
        "id": "d2sc1drMAK8l",
        "outputId": "101a2a74-9797-4c7c-938b-acfc898985cf"
      },
      "outputs": [
        {
          "output_type": "stream",
          "name": "stdout",
          "text": [
            "(n_simulations, n_nodes, xyz)\n",
            "(100, 2500, 3)\n"
          ]
        }
      ],
      "source": [
        "# convert list into a numpy array\n",
        "data = np.stack(fields)\n",
        "\n",
        "print(\"(n_simulations, n_nodes, xyz)\")\n",
        "print(data.shape)"
      ]
    },
    {
      "cell_type": "code",
      "execution_count": 19,
      "metadata": {
        "colab": {
          "base_uri": "https://localhost:8080/"
        },
        "id": "vNdDJCnGAK9R",
        "outputId": "a236553b-430e-40f0-b220-718c058fce06"
      },
      "outputs": [
        {
          "output_type": "execute_result",
          "data": {
            "text/plain": [
              "(100, 7500)"
            ]
          },
          "metadata": {},
          "execution_count": 19
        }
      ],
      "source": [
        "# let's select x-displacement only\n",
        "#data_x = data[:, :, 0]\n",
        "data_x = data.reshape(100, -1)\n",
        "data_x.shape"
      ]
    },
    {
      "cell_type": "code",
      "execution_count": 20,
      "metadata": {
        "colab": {
          "base_uri": "https://localhost:8080/"
        },
        "id": "x6IdHQBsAK9W",
        "outputId": "4774cf83-ff6a-4fb4-ae61-eb1899ee4d8e"
      },
      "outputs": [
        {
          "output_type": "execute_result",
          "data": {
            "text/plain": [
              "PCA(n_components=3)"
            ]
          },
          "metadata": {},
          "execution_count": 20
        }
      ],
      "source": [
        "# run PCA on x-displacement\n",
        "model = PCA(n_components=3)\n",
        "model.fit(data_x)\n",
        "\n",
        "#model = LocallyLinearEmbedding(n_components=3)\n",
        "#model.fit(data_x)\n",
        "\n",
        "#model = MDS(n_components=3)\n",
        "#model.fit(data_x)\n",
        "\n",
        "# run SVD\n",
        "#u, s, v = np.linalg.svd(x_data)"
      ]
    },
    {
      "cell_type": "code",
      "execution_count": 21,
      "metadata": {
        "colab": {
          "base_uri": "https://localhost:8080/",
          "height": 542
        },
        "id": "R2IM4-LIAK9a",
        "outputId": "a23db1eb-041a-4b18-a8d6-87261a8bfd3f"
      },
      "outputs": [
        {
          "output_type": "display_data",
          "data": {
            "text/html": [
              "<html>\n",
              "<head><meta charset=\"utf-8\" /></head>\n",
              "<body>\n",
              "    <div>            <script src=\"https://cdnjs.cloudflare.com/ajax/libs/mathjax/2.7.5/MathJax.js?config=TeX-AMS-MML_SVG\"></script><script type=\"text/javascript\">if (window.MathJax) {MathJax.Hub.Config({SVG: {font: \"STIX-Web\"}});}</script>                <script type=\"text/javascript\">window.PlotlyConfig = {MathJaxConfig: 'local'};</script>\n",
              "        <script src=\"https://cdn.plot.ly/plotly-2.8.3.min.js\"></script>                <div id=\"3655012c-585c-46ce-a6f2-9dc785b468ed\" class=\"plotly-graph-div\" style=\"height:525px; width:100%;\"></div>            <script type=\"text/javascript\">                                    window.PLOTLYENV=window.PLOTLYENV || {};                                    if (document.getElementById(\"3655012c-585c-46ce-a6f2-9dc785b468ed\")) {                    Plotly.newPlot(                        \"3655012c-585c-46ce-a6f2-9dc785b468ed\",                        [{\"mode\":\"lines+markers\",\"name\":\"Singular Values\",\"x\":[0,1,2],\"y\":[655.9898071289062,378.631103515625,332.78643798828125],\"type\":\"scatter\",\"uid\":\"485f6957-d0ed-4a1a-a407-a5ea629962df\"}],                        {\"template\":{\"data\":{\"barpolar\":[{\"marker\":{\"line\":{\"color\":\"#E5ECF6\",\"width\":0.5},\"pattern\":{\"fillmode\":\"overlay\",\"size\":10,\"solidity\":0.2}},\"type\":\"barpolar\"}],\"bar\":[{\"error_x\":{\"color\":\"#2a3f5f\"},\"error_y\":{\"color\":\"#2a3f5f\"},\"marker\":{\"line\":{\"color\":\"#E5ECF6\",\"width\":0.5},\"pattern\":{\"fillmode\":\"overlay\",\"size\":10,\"solidity\":0.2}},\"type\":\"bar\"}],\"carpet\":[{\"aaxis\":{\"endlinecolor\":\"#2a3f5f\",\"gridcolor\":\"white\",\"linecolor\":\"white\",\"minorgridcolor\":\"white\",\"startlinecolor\":\"#2a3f5f\"},\"baxis\":{\"endlinecolor\":\"#2a3f5f\",\"gridcolor\":\"white\",\"linecolor\":\"white\",\"minorgridcolor\":\"white\",\"startlinecolor\":\"#2a3f5f\"},\"type\":\"carpet\"}],\"choropleth\":[{\"colorbar\":{\"outlinewidth\":0,\"ticks\":\"\"},\"type\":\"choropleth\"}],\"contourcarpet\":[{\"colorbar\":{\"outlinewidth\":0,\"ticks\":\"\"},\"type\":\"contourcarpet\"}],\"contour\":[{\"colorbar\":{\"outlinewidth\":0,\"ticks\":\"\"},\"colorscale\":[[0.0,\"#0d0887\"],[0.1111111111111111,\"#46039f\"],[0.2222222222222222,\"#7201a8\"],[0.3333333333333333,\"#9c179e\"],[0.4444444444444444,\"#bd3786\"],[0.5555555555555556,\"#d8576b\"],[0.6666666666666666,\"#ed7953\"],[0.7777777777777778,\"#fb9f3a\"],[0.8888888888888888,\"#fdca26\"],[1.0,\"#f0f921\"]],\"type\":\"contour\"}],\"heatmapgl\":[{\"colorbar\":{\"outlinewidth\":0,\"ticks\":\"\"},\"colorscale\":[[0.0,\"#0d0887\"],[0.1111111111111111,\"#46039f\"],[0.2222222222222222,\"#7201a8\"],[0.3333333333333333,\"#9c179e\"],[0.4444444444444444,\"#bd3786\"],[0.5555555555555556,\"#d8576b\"],[0.6666666666666666,\"#ed7953\"],[0.7777777777777778,\"#fb9f3a\"],[0.8888888888888888,\"#fdca26\"],[1.0,\"#f0f921\"]],\"type\":\"heatmapgl\"}],\"heatmap\":[{\"colorbar\":{\"outlinewidth\":0,\"ticks\":\"\"},\"colorscale\":[[0.0,\"#0d0887\"],[0.1111111111111111,\"#46039f\"],[0.2222222222222222,\"#7201a8\"],[0.3333333333333333,\"#9c179e\"],[0.4444444444444444,\"#bd3786\"],[0.5555555555555556,\"#d8576b\"],[0.6666666666666666,\"#ed7953\"],[0.7777777777777778,\"#fb9f3a\"],[0.8888888888888888,\"#fdca26\"],[1.0,\"#f0f921\"]],\"type\":\"heatmap\"}],\"histogram2dcontour\":[{\"colorbar\":{\"outlinewidth\":0,\"ticks\":\"\"},\"colorscale\":[[0.0,\"#0d0887\"],[0.1111111111111111,\"#46039f\"],[0.2222222222222222,\"#7201a8\"],[0.3333333333333333,\"#9c179e\"],[0.4444444444444444,\"#bd3786\"],[0.5555555555555556,\"#d8576b\"],[0.6666666666666666,\"#ed7953\"],[0.7777777777777778,\"#fb9f3a\"],[0.8888888888888888,\"#fdca26\"],[1.0,\"#f0f921\"]],\"type\":\"histogram2dcontour\"}],\"histogram2d\":[{\"colorbar\":{\"outlinewidth\":0,\"ticks\":\"\"},\"colorscale\":[[0.0,\"#0d0887\"],[0.1111111111111111,\"#46039f\"],[0.2222222222222222,\"#7201a8\"],[0.3333333333333333,\"#9c179e\"],[0.4444444444444444,\"#bd3786\"],[0.5555555555555556,\"#d8576b\"],[0.6666666666666666,\"#ed7953\"],[0.7777777777777778,\"#fb9f3a\"],[0.8888888888888888,\"#fdca26\"],[1.0,\"#f0f921\"]],\"type\":\"histogram2d\"}],\"histogram\":[{\"marker\":{\"pattern\":{\"fillmode\":\"overlay\",\"size\":10,\"solidity\":0.2}},\"type\":\"histogram\"}],\"mesh3d\":[{\"colorbar\":{\"outlinewidth\":0,\"ticks\":\"\"},\"type\":\"mesh3d\"}],\"parcoords\":[{\"line\":{\"colorbar\":{\"outlinewidth\":0,\"ticks\":\"\"}},\"type\":\"parcoords\"}],\"pie\":[{\"automargin\":true,\"type\":\"pie\"}],\"scatter3d\":[{\"line\":{\"colorbar\":{\"outlinewidth\":0,\"ticks\":\"\"}},\"marker\":{\"colorbar\":{\"outlinewidth\":0,\"ticks\":\"\"}},\"type\":\"scatter3d\"}],\"scattercarpet\":[{\"marker\":{\"colorbar\":{\"outlinewidth\":0,\"ticks\":\"\"}},\"type\":\"scattercarpet\"}],\"scattergeo\":[{\"marker\":{\"colorbar\":{\"outlinewidth\":0,\"ticks\":\"\"}},\"type\":\"scattergeo\"}],\"scattergl\":[{\"marker\":{\"colorbar\":{\"outlinewidth\":0,\"ticks\":\"\"}},\"type\":\"scattergl\"}],\"scattermapbox\":[{\"marker\":{\"colorbar\":{\"outlinewidth\":0,\"ticks\":\"\"}},\"type\":\"scattermapbox\"}],\"scatterpolargl\":[{\"marker\":{\"colorbar\":{\"outlinewidth\":0,\"ticks\":\"\"}},\"type\":\"scatterpolargl\"}],\"scatterpolar\":[{\"marker\":{\"colorbar\":{\"outlinewidth\":0,\"ticks\":\"\"}},\"type\":\"scatterpolar\"}],\"scatter\":[{\"marker\":{\"colorbar\":{\"outlinewidth\":0,\"ticks\":\"\"}},\"type\":\"scatter\"}],\"scatterternary\":[{\"marker\":{\"colorbar\":{\"outlinewidth\":0,\"ticks\":\"\"}},\"type\":\"scatterternary\"}],\"surface\":[{\"colorbar\":{\"outlinewidth\":0,\"ticks\":\"\"},\"colorscale\":[[0.0,\"#0d0887\"],[0.1111111111111111,\"#46039f\"],[0.2222222222222222,\"#7201a8\"],[0.3333333333333333,\"#9c179e\"],[0.4444444444444444,\"#bd3786\"],[0.5555555555555556,\"#d8576b\"],[0.6666666666666666,\"#ed7953\"],[0.7777777777777778,\"#fb9f3a\"],[0.8888888888888888,\"#fdca26\"],[1.0,\"#f0f921\"]],\"type\":\"surface\"}],\"table\":[{\"cells\":{\"fill\":{\"color\":\"#EBF0F8\"},\"line\":{\"color\":\"white\"}},\"header\":{\"fill\":{\"color\":\"#C8D4E3\"},\"line\":{\"color\":\"white\"}},\"type\":\"table\"}]},\"layout\":{\"annotationdefaults\":{\"arrowcolor\":\"#2a3f5f\",\"arrowhead\":0,\"arrowwidth\":1},\"autotypenumbers\":\"strict\",\"coloraxis\":{\"colorbar\":{\"outlinewidth\":0,\"ticks\":\"\"}},\"colorscale\":{\"diverging\":[[0,\"#8e0152\"],[0.1,\"#c51b7d\"],[0.2,\"#de77ae\"],[0.3,\"#f1b6da\"],[0.4,\"#fde0ef\"],[0.5,\"#f7f7f7\"],[0.6,\"#e6f5d0\"],[0.7,\"#b8e186\"],[0.8,\"#7fbc41\"],[0.9,\"#4d9221\"],[1,\"#276419\"]],\"sequential\":[[0.0,\"#0d0887\"],[0.1111111111111111,\"#46039f\"],[0.2222222222222222,\"#7201a8\"],[0.3333333333333333,\"#9c179e\"],[0.4444444444444444,\"#bd3786\"],[0.5555555555555556,\"#d8576b\"],[0.6666666666666666,\"#ed7953\"],[0.7777777777777778,\"#fb9f3a\"],[0.8888888888888888,\"#fdca26\"],[1.0,\"#f0f921\"]],\"sequentialminus\":[[0.0,\"#0d0887\"],[0.1111111111111111,\"#46039f\"],[0.2222222222222222,\"#7201a8\"],[0.3333333333333333,\"#9c179e\"],[0.4444444444444444,\"#bd3786\"],[0.5555555555555556,\"#d8576b\"],[0.6666666666666666,\"#ed7953\"],[0.7777777777777778,\"#fb9f3a\"],[0.8888888888888888,\"#fdca26\"],[1.0,\"#f0f921\"]]},\"colorway\":[\"#636efa\",\"#EF553B\",\"#00cc96\",\"#ab63fa\",\"#FFA15A\",\"#19d3f3\",\"#FF6692\",\"#B6E880\",\"#FF97FF\",\"#FECB52\"],\"font\":{\"color\":\"#2a3f5f\"},\"geo\":{\"bgcolor\":\"white\",\"lakecolor\":\"white\",\"landcolor\":\"#E5ECF6\",\"showlakes\":true,\"showland\":true,\"subunitcolor\":\"white\"},\"hoverlabel\":{\"align\":\"left\"},\"hovermode\":\"closest\",\"mapbox\":{\"style\":\"light\"},\"paper_bgcolor\":\"white\",\"plot_bgcolor\":\"#E5ECF6\",\"polar\":{\"angularaxis\":{\"gridcolor\":\"white\",\"linecolor\":\"white\",\"ticks\":\"\"},\"bgcolor\":\"#E5ECF6\",\"radialaxis\":{\"gridcolor\":\"white\",\"linecolor\":\"white\",\"ticks\":\"\"}},\"scene\":{\"xaxis\":{\"backgroundcolor\":\"#E5ECF6\",\"gridcolor\":\"white\",\"gridwidth\":2,\"linecolor\":\"white\",\"showbackground\":true,\"ticks\":\"\",\"zerolinecolor\":\"white\"},\"yaxis\":{\"backgroundcolor\":\"#E5ECF6\",\"gridcolor\":\"white\",\"gridwidth\":2,\"linecolor\":\"white\",\"showbackground\":true,\"ticks\":\"\",\"zerolinecolor\":\"white\"},\"zaxis\":{\"backgroundcolor\":\"#E5ECF6\",\"gridcolor\":\"white\",\"gridwidth\":2,\"linecolor\":\"white\",\"showbackground\":true,\"ticks\":\"\",\"zerolinecolor\":\"white\"}},\"shapedefaults\":{\"line\":{\"color\":\"#2a3f5f\"}},\"ternary\":{\"aaxis\":{\"gridcolor\":\"white\",\"linecolor\":\"white\",\"ticks\":\"\"},\"baxis\":{\"gridcolor\":\"white\",\"linecolor\":\"white\",\"ticks\":\"\"},\"bgcolor\":\"#E5ECF6\",\"caxis\":{\"gridcolor\":\"white\",\"linecolor\":\"white\",\"ticks\":\"\"}},\"title\":{\"x\":0.05},\"xaxis\":{\"automargin\":true,\"gridcolor\":\"white\",\"linecolor\":\"white\",\"ticks\":\"\",\"title\":{\"standoff\":15},\"zerolinecolor\":\"white\",\"zerolinewidth\":2},\"yaxis\":{\"automargin\":true,\"gridcolor\":\"white\",\"linecolor\":\"white\",\"ticks\":\"\",\"title\":{\"standoff\":15},\"zerolinecolor\":\"white\",\"zerolinewidth\":2}}},\"title\":{\"text\":\"Singular Values of PCA\"},\"xaxis\":{\"title\":{\"text\":\"Eigenvalue Index\"}},\"yaxis\":{\"title\":{\"text\":\"Eigenvalue\"}}},                        {\"responsive\": true}                    ).then(function(){\n",
              "                            \n",
              "var gd = document.getElementById('3655012c-585c-46ce-a6f2-9dc785b468ed');\n",
              "var x = new MutationObserver(function (mutations, observer) {{\n",
              "        var display = window.getComputedStyle(gd).display;\n",
              "        if (!display || display === 'none') {{\n",
              "            console.log([gd, 'removed!']);\n",
              "            Plotly.purge(gd);\n",
              "            observer.disconnect();\n",
              "        }}\n",
              "}});\n",
              "\n",
              "// Listen for the removal of the full notebook cells\n",
              "var notebookContainer = gd.closest('#notebook-container');\n",
              "if (notebookContainer) {{\n",
              "    x.observe(notebookContainer, {childList: true});\n",
              "}}\n",
              "\n",
              "// Listen for the clearing of the current output cell\n",
              "var outputEl = gd.closest('.output');\n",
              "if (outputEl) {{\n",
              "    x.observe(outputEl, {childList: true});\n",
              "}}\n",
              "\n",
              "                        })                };                            </script>        </div>\n",
              "</body>\n",
              "</html>"
            ]
          },
          "metadata": {}
        }
      ],
      "source": [
        "# displace singular values/eigenvalues\n",
        "fig = go.FigureWidget()\n",
        "fig.add_trace(\n",
        "    go.Scatter(x=np.arange(len(model.singular_values_)), \n",
        "               y=model.singular_values_, \n",
        "               mode='lines+markers',\n",
        "               name=\"Singular Values\"\n",
        "              )\n",
        ")\n",
        "\n",
        "fig.update_layout(\n",
        "    title='Singular Values of PCA',\n",
        "    xaxis_title='Eigenvalue Index',\n",
        "    yaxis_title='Eigenvalue',\n",
        ")\n",
        "\n",
        "fig.show()"
      ]
    },
    {
      "cell_type": "code",
      "execution_count": 21,
      "metadata": {
        "id": "UhLz47A7AK9z"
      },
      "outputs": [],
      "source": []
    },
    {
      "cell_type": "code",
      "execution_count": 22,
      "metadata": {
        "id": "mAFkHFSnAK93"
      },
      "outputs": [],
      "source": [
        "# use only most important values\n",
        "n_modes = 3\n",
        "\n",
        "# transform the data into reduced space\n",
        "data_x_transformed = model.transform(data_x)[:, :n_modes]\n",
        "#data_x_transformed = model.embedding_"
      ]
    },
    {
      "cell_type": "code",
      "execution_count": 25,
      "metadata": {
        "colab": {
          "base_uri": "https://localhost:8080/"
        },
        "id": "UKWkYhuDAK99",
        "outputId": "04e8ca89-8f57-4734-c890-9b48d767b635"
      },
      "outputs": [
        {
          "output_type": "stream",
          "name": "stdout",
          "text": []
        }
      ],
      "source": [
        "# load images\n",
        "image_data = {}\n",
        "for img_filepath in glob.glob(DATADIR + '/exercise-1/images/*.png'):\n",
        "    with open(img_filepath, \"rb\") as f:\n",
        "        print(img_filepath, end='\\r')\n",
        "        number = ntpath.basename(img_filepath).split('.')[0]\n",
        "        image_data[int(number)] = f.read()\n"
      ]
    },
    {
      "cell_type": "code",
      "execution_count": null,
      "metadata": {
        "id": "PUUwpm7AAK-E"
      },
      "outputs": [],
      "source": []
    },
    {
      "cell_type": "code",
      "execution_count": 27,
      "metadata": {
        "colab": {
          "base_uri": "https://localhost:8080/",
          "height": 542
        },
        "id": "GExn0yL0AK-G",
        "outputId": "57e31a64-436f-492b-b218-5e8fd158b15f"
      },
      "outputs": [
        {
          "output_type": "display_data",
          "data": {
            "text/html": [
              "<html>\n",
              "<head><meta charset=\"utf-8\" /></head>\n",
              "<body>\n",
              "    <div>            <script src=\"https://cdnjs.cloudflare.com/ajax/libs/mathjax/2.7.5/MathJax.js?config=TeX-AMS-MML_SVG\"></script><script type=\"text/javascript\">if (window.MathJax) {MathJax.Hub.Config({SVG: {font: \"STIX-Web\"}});}</script>                <script type=\"text/javascript\">window.PlotlyConfig = {MathJaxConfig: 'local'};</script>\n",
              "        <script src=\"https://cdn.plot.ly/plotly-2.8.3.min.js\"></script>                <div id=\"39f37e53-913f-4e6b-bec6-beca99068bd2\" class=\"plotly-graph-div\" style=\"height:525px; width:100%;\"></div>            <script type=\"text/javascript\">                                    window.PLOTLYENV=window.PLOTLYENV || {};                                    if (document.getElementById(\"39f37e53-913f-4e6b-bec6-beca99068bd2\")) {                    Plotly.newPlot(                        \"39f37e53-913f-4e6b-bec6-beca99068bd2\",                        [{\"hoverinfo\":\"text\",\"marker\":{\"size\":5},\"mode\":\"markers\",\"name\":\"Embedding Simulation\",\"opacity\":0.99,\"text\":[\"/content/gdrive/My Drive/lasso_python_ml/exercise-1/d3plots/run0.d3plot\",\"/content/gdrive/My Drive/lasso_python_ml/exercise-1/d3plots/run1.d3plot\",\"/content/gdrive/My Drive/lasso_python_ml/exercise-1/d3plots/run2.d3plot\",\"/content/gdrive/My Drive/lasso_python_ml/exercise-1/d3plots/run3.d3plot\",\"/content/gdrive/My Drive/lasso_python_ml/exercise-1/d3plots/run4.d3plot\",\"/content/gdrive/My Drive/lasso_python_ml/exercise-1/d3plots/run5.d3plot\",\"/content/gdrive/My Drive/lasso_python_ml/exercise-1/d3plots/run6.d3plot\",\"/content/gdrive/My Drive/lasso_python_ml/exercise-1/d3plots/run7.d3plot\",\"/content/gdrive/My Drive/lasso_python_ml/exercise-1/d3plots/run8.d3plot\",\"/content/gdrive/My Drive/lasso_python_ml/exercise-1/d3plots/run9.d3plot\",\"/content/gdrive/My Drive/lasso_python_ml/exercise-1/d3plots/run10.d3plot\",\"/content/gdrive/My Drive/lasso_python_ml/exercise-1/d3plots/run11.d3plot\",\"/content/gdrive/My Drive/lasso_python_ml/exercise-1/d3plots/run13.d3plot\",\"/content/gdrive/My Drive/lasso_python_ml/exercise-1/d3plots/run12.d3plot\",\"/content/gdrive/My Drive/lasso_python_ml/exercise-1/d3plots/run14.d3plot\",\"/content/gdrive/My Drive/lasso_python_ml/exercise-1/d3plots/run15.d3plot\",\"/content/gdrive/My Drive/lasso_python_ml/exercise-1/d3plots/run16.d3plot\",\"/content/gdrive/My Drive/lasso_python_ml/exercise-1/d3plots/run18.d3plot\",\"/content/gdrive/My Drive/lasso_python_ml/exercise-1/d3plots/run17.d3plot\",\"/content/gdrive/My Drive/lasso_python_ml/exercise-1/d3plots/run19.d3plot\",\"/content/gdrive/My Drive/lasso_python_ml/exercise-1/d3plots/run20.d3plot\",\"/content/gdrive/My Drive/lasso_python_ml/exercise-1/d3plots/run21.d3plot\",\"/content/gdrive/My Drive/lasso_python_ml/exercise-1/d3plots/run22.d3plot\",\"/content/gdrive/My Drive/lasso_python_ml/exercise-1/d3plots/run23.d3plot\",\"/content/gdrive/My Drive/lasso_python_ml/exercise-1/d3plots/run24.d3plot\",\"/content/gdrive/My Drive/lasso_python_ml/exercise-1/d3plots/run26.d3plot\",\"/content/gdrive/My Drive/lasso_python_ml/exercise-1/d3plots/run25.d3plot\",\"/content/gdrive/My Drive/lasso_python_ml/exercise-1/d3plots/run27.d3plot\",\"/content/gdrive/My Drive/lasso_python_ml/exercise-1/d3plots/run28.d3plot\",\"/content/gdrive/My Drive/lasso_python_ml/exercise-1/d3plots/run29.d3plot\",\"/content/gdrive/My Drive/lasso_python_ml/exercise-1/d3plots/run30.d3plot\",\"/content/gdrive/My Drive/lasso_python_ml/exercise-1/d3plots/run31.d3plot\",\"/content/gdrive/My Drive/lasso_python_ml/exercise-1/d3plots/run32.d3plot\",\"/content/gdrive/My Drive/lasso_python_ml/exercise-1/d3plots/run33.d3plot\",\"/content/gdrive/My Drive/lasso_python_ml/exercise-1/d3plots/run34.d3plot\",\"/content/gdrive/My Drive/lasso_python_ml/exercise-1/d3plots/run35.d3plot\",\"/content/gdrive/My Drive/lasso_python_ml/exercise-1/d3plots/run36.d3plot\",\"/content/gdrive/My Drive/lasso_python_ml/exercise-1/d3plots/run37.d3plot\",\"/content/gdrive/My Drive/lasso_python_ml/exercise-1/d3plots/run39.d3plot\",\"/content/gdrive/My Drive/lasso_python_ml/exercise-1/d3plots/run38.d3plot\",\"/content/gdrive/My Drive/lasso_python_ml/exercise-1/d3plots/run40.d3plot\",\"/content/gdrive/My Drive/lasso_python_ml/exercise-1/d3plots/run41.d3plot\",\"/content/gdrive/My Drive/lasso_python_ml/exercise-1/d3plots/run43.d3plot\",\"/content/gdrive/My Drive/lasso_python_ml/exercise-1/d3plots/run42.d3plot\",\"/content/gdrive/My Drive/lasso_python_ml/exercise-1/d3plots/run44.d3plot\",\"/content/gdrive/My Drive/lasso_python_ml/exercise-1/d3plots/run45.d3plot\",\"/content/gdrive/My Drive/lasso_python_ml/exercise-1/d3plots/run46.d3plot\",\"/content/gdrive/My Drive/lasso_python_ml/exercise-1/d3plots/run47.d3plot\",\"/content/gdrive/My Drive/lasso_python_ml/exercise-1/d3plots/run48.d3plot\",\"/content/gdrive/My Drive/lasso_python_ml/exercise-1/d3plots/run49.d3plot\",\"/content/gdrive/My Drive/lasso_python_ml/exercise-1/d3plots/run51.d3plot\",\"/content/gdrive/My Drive/lasso_python_ml/exercise-1/d3plots/run50.d3plot\",\"/content/gdrive/My Drive/lasso_python_ml/exercise-1/d3plots/run52.d3plot\",\"/content/gdrive/My Drive/lasso_python_ml/exercise-1/d3plots/run53.d3plot\",\"/content/gdrive/My Drive/lasso_python_ml/exercise-1/d3plots/run54.d3plot\",\"/content/gdrive/My Drive/lasso_python_ml/exercise-1/d3plots/run56.d3plot\",\"/content/gdrive/My Drive/lasso_python_ml/exercise-1/d3plots/run55.d3plot\",\"/content/gdrive/My Drive/lasso_python_ml/exercise-1/d3plots/run57.d3plot\",\"/content/gdrive/My Drive/lasso_python_ml/exercise-1/d3plots/run58.d3plot\",\"/content/gdrive/My Drive/lasso_python_ml/exercise-1/d3plots/run59.d3plot\",\"/content/gdrive/My Drive/lasso_python_ml/exercise-1/d3plots/run60.d3plot\",\"/content/gdrive/My Drive/lasso_python_ml/exercise-1/d3plots/run61.d3plot\",\"/content/gdrive/My Drive/lasso_python_ml/exercise-1/d3plots/run62.d3plot\",\"/content/gdrive/My Drive/lasso_python_ml/exercise-1/d3plots/run63.d3plot\",\"/content/gdrive/My Drive/lasso_python_ml/exercise-1/d3plots/run65.d3plot\",\"/content/gdrive/My Drive/lasso_python_ml/exercise-1/d3plots/run64.d3plot\",\"/content/gdrive/My Drive/lasso_python_ml/exercise-1/d3plots/run66.d3plot\",\"/content/gdrive/My Drive/lasso_python_ml/exercise-1/d3plots/run67.d3plot\",\"/content/gdrive/My Drive/lasso_python_ml/exercise-1/d3plots/run68.d3plot\",\"/content/gdrive/My Drive/lasso_python_ml/exercise-1/d3plots/run69.d3plot\",\"/content/gdrive/My Drive/lasso_python_ml/exercise-1/d3plots/run70.d3plot\",\"/content/gdrive/My Drive/lasso_python_ml/exercise-1/d3plots/run71.d3plot\",\"/content/gdrive/My Drive/lasso_python_ml/exercise-1/d3plots/run72.d3plot\",\"/content/gdrive/My Drive/lasso_python_ml/exercise-1/d3plots/run73.d3plot\",\"/content/gdrive/My Drive/lasso_python_ml/exercise-1/d3plots/run74.d3plot\",\"/content/gdrive/My Drive/lasso_python_ml/exercise-1/d3plots/run75.d3plot\",\"/content/gdrive/My Drive/lasso_python_ml/exercise-1/d3plots/run76.d3plot\",\"/content/gdrive/My Drive/lasso_python_ml/exercise-1/d3plots/run77.d3plot\",\"/content/gdrive/My Drive/lasso_python_ml/exercise-1/d3plots/run79.d3plot\",\"/content/gdrive/My Drive/lasso_python_ml/exercise-1/d3plots/run78.d3plot\",\"/content/gdrive/My Drive/lasso_python_ml/exercise-1/d3plots/run80.d3plot\",\"/content/gdrive/My Drive/lasso_python_ml/exercise-1/d3plots/run81.d3plot\",\"/content/gdrive/My Drive/lasso_python_ml/exercise-1/d3plots/run82.d3plot\",\"/content/gdrive/My Drive/lasso_python_ml/exercise-1/d3plots/run83.d3plot\",\"/content/gdrive/My Drive/lasso_python_ml/exercise-1/d3plots/run84.d3plot\",\"/content/gdrive/My Drive/lasso_python_ml/exercise-1/d3plots/run85.d3plot\",\"/content/gdrive/My Drive/lasso_python_ml/exercise-1/d3plots/run86.d3plot\",\"/content/gdrive/My Drive/lasso_python_ml/exercise-1/d3plots/run87.d3plot\",\"/content/gdrive/My Drive/lasso_python_ml/exercise-1/d3plots/run88.d3plot\",\"/content/gdrive/My Drive/lasso_python_ml/exercise-1/d3plots/run89.d3plot\",\"/content/gdrive/My Drive/lasso_python_ml/exercise-1/d3plots/run90.d3plot\",\"/content/gdrive/My Drive/lasso_python_ml/exercise-1/d3plots/run91.d3plot\",\"/content/gdrive/My Drive/lasso_python_ml/exercise-1/d3plots/run93.d3plot\",\"/content/gdrive/My Drive/lasso_python_ml/exercise-1/d3plots/run92.d3plot\",\"/content/gdrive/My Drive/lasso_python_ml/exercise-1/d3plots/run94.d3plot\",\"/content/gdrive/My Drive/lasso_python_ml/exercise-1/d3plots/run95.d3plot\",\"/content/gdrive/My Drive/lasso_python_ml/exercise-1/d3plots/run96.d3plot\",\"/content/gdrive/My Drive/lasso_python_ml/exercise-1/d3plots/run98.d3plot\",\"/content/gdrive/My Drive/lasso_python_ml/exercise-1/d3plots/run97.d3plot\",\"/content/gdrive/My Drive/lasso_python_ml/exercise-1/d3plots/run99.d3plot\"],\"x\":[-65.33147430419922,-55.68076705932617,-31.649085998535156,-76.20294952392578,40.51277542114258,45.75819778442383,2.077059268951416,-62.08287048339844,6.42557954788208,18.121185302734375,-57.18045425415039,38.1702880859375,35.4290657043457,-38.62242126464844,40.068580627441406,68.79075622558594,35.983768463134766,24.017107009887695,35.02576446533203,-59.94939041137695,-31.855592727661133,-66.01652526855469,-70.93879699707031,-27.995594024658203,-51.09735870361328,-70.13990020751953,-8.05945873260498,-63.856685638427734,-75.95289611816406,-35.85136032104492,138.9169158935547,-54.75861740112305,-75.02519989013672,-16.937942504882812,160.2742462158203,86.64025115966797,-27.02788734436035,-51.22190475463867,19.541603088378906,6.022441387176514,-19.078813552856445,77.7795181274414,67.6273422241211,-59.146549224853516,-78.06809997558594,105.95953369140625,-48.674354553222656,-72.29227447509766,9.368016242980957,-83.38668823242188,-32.134910583496094,114.17980194091797,47.35112380981445,40.44123458862305,-16.240144729614258,118.02973937988281,-33.240509033203125,-32.74789047241211,35.45268630981445,22.25591278076172,-8.555163383483887,-34.99690246582031,-43.34558868408203,-11.188451766967773,21.19530487060547,53.49661636352539,15.448578834533691,-56.171165466308594,-60.23809814453125,-17.17855453491211,45.27122497558594,-77.97500610351562,-69.39906311035156,124.91259765625,-46.959259033203125,-68.52183532714844,183.9237060546875,32.1445426940918,-68.83244323730469,67.33335876464844,-76.6828384399414,64.45108795166016,-57.180503845214844,10.865805625915527,-43.940128326416016,110.76734161376953,-58.42793273925781,-49.56834030151367,-23.65884780883789,18.40249252319336,-46.64828109741211,-63.37655258178711,133.63616943359375,-71.57630157470703,45.113094329833984,-3.257254123687744,-39.871246337890625,124.0950698852539,99.8179931640625,154.8887176513672],\"y\":[-14.952544212341309,3.25424861907959,34.1650505065918,-18.501285552978516,-49.9068717956543,-34.32505416870117,6.125618934631348,-8.049456596374512,-58.427635192871094,46.11460494995117,7.7774248123168945,-52.19737243652344,77.03602600097656,24.25457191467285,-35.60830307006836,58.69715881347656,-15.870361328125,-11.851633071899414,-27.865528106689453,-3.0214076042175293,-27.47951889038086,8.229815483093262,-22.120895385742188,-15.758345603942871,-0.3722154498100281,-14.328774452209473,71.22062683105469,-11.929691314697266,-8.761394500732422,13.503707885742188,-18.09610366821289,16.6893367767334,-7.512626647949219,-55.03548812866211,4.414503574371338,-6.360766887664795,44.97191619873047,18.929141998291016,-6.1286468505859375,2.0321269035339355,9.829520225524902,-19.59760093688965,-40.95854187011719,4.706517219543457,-25.844968795776367,-41.05767822265625,7.748815536499023,-16.991954803466797,19.629091262817383,-38.61408996582031,51.87142562866211,-37.7110481262207,-54.68817138671875,12.271589279174805,-51.57863998413086,-41.20844650268555,-12.016716957092285,53.77717208862305,91.81946563720703,-43.83148956298828,-48.15866470336914,-33.781734466552734,13.118379592895508,30.55190086364746,49.01237106323242,100.7366714477539,-58.38653564453125,-1.9255143404006958,-4.978609085083008,20.43356704711914,-35.278221130371094,-20.935365676879883,-2.8120663166046143,24.18937110900879,16.22471046447754,-25.47342300415039,-17.849119186401367,-33.12651062011719,-12.359067916870117,-8.449734687805176,-13.973413467407227,-50.23329544067383,9.15222454071045,65.44049835205078,41.78584289550781,138.1091766357422,0.9986647963523865,26.546466827392578,46.515079498291016,36.21379089355469,10.99554443359375,-8.519201278686523,-39.1574821472168,-27.944854736328125,102.18525695800781,-7.385650157928467,-8.09798812866211,-25.21746253967285,17.46088981628418,-6.1488518714904785],\"z\":[31.29339599609375,50.72880172729492,-15.154540061950684,5.63607120513916,10.384060859680176,-29.635459899902344,-48.01287078857422,52.40233612060547,-0.36171671748161316,-33.28126907348633,-9.753747940063477,-3.4631900787353516,-26.004518508911133,-21.439769744873047,2.8919711112976074,-43.19895935058594,-43.41305923461914,-44.147010803222656,-39.274986267089844,-4.349015712738037,-54.24241256713867,22.03078842163086,21.043540954589844,-45.82501983642578,49.26589584350586,45.354923248291016,48.2987174987793,45.909324645996094,19.57602310180664,-39.13206481933594,38.296043395996094,68.10482025146484,24.201597213745117,-11.460199356079102,30.308412551879883,-12.000022888183594,6.667538166046143,-21.84925079345703,-44.90379333496094,-55.31657791137695,-37.362735748291016,1.5600965023040771,24.75800895690918,15.083906173706055,18.280500411987305,9.05862045288086,-33.19354248046875,1.447630763053894,-39.38845443725586,7.141185283660889,48.84525680541992,27.441099166870117,14.265807151794434,-27.918222427368164,-35.188072204589844,40.6784782409668,-54.68586349487305,40.1131477355957,8.67611312866211,-8.890542984008789,-21.472671508789062,-52.2247314453125,-8.521955490112305,-44.037906646728516,-51.97470474243164,2.125959873199463,-4.592275619506836,27.745065689086914,-7.699024200439453,-33.68028259277344,-23.99799156188965,10.650190353393555,48.603721618652344,-0.01807549223303795,-32.266136169433594,11.865652084350586,65.3499984741211,-31.602636337280273,46.614383697509766,-25.24236297607422,25.490154266357422,11.087791442871094,-21.401309967041016,-28.157821655273438,36.02901077270508,25.300077438354492,40.844940185546875,1.494946837425232,20.035259246826172,-52.82244873046875,26.809200286865234,40.08832550048828,44.02207565307617,8.990594863891602,37.61864471435547,-39.63801956176758,-48.23313903808594,40.7734260559082,-22.477075576782227,31.62199592590332],\"type\":\"scatter3d\",\"uid\":\"09b7be06-bbda-42bc-9a64-da012188a199\"}],                        {\"template\":{\"data\":{\"barpolar\":[{\"marker\":{\"line\":{\"color\":\"#E5ECF6\",\"width\":0.5},\"pattern\":{\"fillmode\":\"overlay\",\"size\":10,\"solidity\":0.2}},\"type\":\"barpolar\"}],\"bar\":[{\"error_x\":{\"color\":\"#2a3f5f\"},\"error_y\":{\"color\":\"#2a3f5f\"},\"marker\":{\"line\":{\"color\":\"#E5ECF6\",\"width\":0.5},\"pattern\":{\"fillmode\":\"overlay\",\"size\":10,\"solidity\":0.2}},\"type\":\"bar\"}],\"carpet\":[{\"aaxis\":{\"endlinecolor\":\"#2a3f5f\",\"gridcolor\":\"white\",\"linecolor\":\"white\",\"minorgridcolor\":\"white\",\"startlinecolor\":\"#2a3f5f\"},\"baxis\":{\"endlinecolor\":\"#2a3f5f\",\"gridcolor\":\"white\",\"linecolor\":\"white\",\"minorgridcolor\":\"white\",\"startlinecolor\":\"#2a3f5f\"},\"type\":\"carpet\"}],\"choropleth\":[{\"colorbar\":{\"outlinewidth\":0,\"ticks\":\"\"},\"type\":\"choropleth\"}],\"contourcarpet\":[{\"colorbar\":{\"outlinewidth\":0,\"ticks\":\"\"},\"type\":\"contourcarpet\"}],\"contour\":[{\"colorbar\":{\"outlinewidth\":0,\"ticks\":\"\"},\"colorscale\":[[0.0,\"#0d0887\"],[0.1111111111111111,\"#46039f\"],[0.2222222222222222,\"#7201a8\"],[0.3333333333333333,\"#9c179e\"],[0.4444444444444444,\"#bd3786\"],[0.5555555555555556,\"#d8576b\"],[0.6666666666666666,\"#ed7953\"],[0.7777777777777778,\"#fb9f3a\"],[0.8888888888888888,\"#fdca26\"],[1.0,\"#f0f921\"]],\"type\":\"contour\"}],\"heatmapgl\":[{\"colorbar\":{\"outlinewidth\":0,\"ticks\":\"\"},\"colorscale\":[[0.0,\"#0d0887\"],[0.1111111111111111,\"#46039f\"],[0.2222222222222222,\"#7201a8\"],[0.3333333333333333,\"#9c179e\"],[0.4444444444444444,\"#bd3786\"],[0.5555555555555556,\"#d8576b\"],[0.6666666666666666,\"#ed7953\"],[0.7777777777777778,\"#fb9f3a\"],[0.8888888888888888,\"#fdca26\"],[1.0,\"#f0f921\"]],\"type\":\"heatmapgl\"}],\"heatmap\":[{\"colorbar\":{\"outlinewidth\":0,\"ticks\":\"\"},\"colorscale\":[[0.0,\"#0d0887\"],[0.1111111111111111,\"#46039f\"],[0.2222222222222222,\"#7201a8\"],[0.3333333333333333,\"#9c179e\"],[0.4444444444444444,\"#bd3786\"],[0.5555555555555556,\"#d8576b\"],[0.6666666666666666,\"#ed7953\"],[0.7777777777777778,\"#fb9f3a\"],[0.8888888888888888,\"#fdca26\"],[1.0,\"#f0f921\"]],\"type\":\"heatmap\"}],\"histogram2dcontour\":[{\"colorbar\":{\"outlinewidth\":0,\"ticks\":\"\"},\"colorscale\":[[0.0,\"#0d0887\"],[0.1111111111111111,\"#46039f\"],[0.2222222222222222,\"#7201a8\"],[0.3333333333333333,\"#9c179e\"],[0.4444444444444444,\"#bd3786\"],[0.5555555555555556,\"#d8576b\"],[0.6666666666666666,\"#ed7953\"],[0.7777777777777778,\"#fb9f3a\"],[0.8888888888888888,\"#fdca26\"],[1.0,\"#f0f921\"]],\"type\":\"histogram2dcontour\"}],\"histogram2d\":[{\"colorbar\":{\"outlinewidth\":0,\"ticks\":\"\"},\"colorscale\":[[0.0,\"#0d0887\"],[0.1111111111111111,\"#46039f\"],[0.2222222222222222,\"#7201a8\"],[0.3333333333333333,\"#9c179e\"],[0.4444444444444444,\"#bd3786\"],[0.5555555555555556,\"#d8576b\"],[0.6666666666666666,\"#ed7953\"],[0.7777777777777778,\"#fb9f3a\"],[0.8888888888888888,\"#fdca26\"],[1.0,\"#f0f921\"]],\"type\":\"histogram2d\"}],\"histogram\":[{\"marker\":{\"pattern\":{\"fillmode\":\"overlay\",\"size\":10,\"solidity\":0.2}},\"type\":\"histogram\"}],\"mesh3d\":[{\"colorbar\":{\"outlinewidth\":0,\"ticks\":\"\"},\"type\":\"mesh3d\"}],\"parcoords\":[{\"line\":{\"colorbar\":{\"outlinewidth\":0,\"ticks\":\"\"}},\"type\":\"parcoords\"}],\"pie\":[{\"automargin\":true,\"type\":\"pie\"}],\"scatter3d\":[{\"line\":{\"colorbar\":{\"outlinewidth\":0,\"ticks\":\"\"}},\"marker\":{\"colorbar\":{\"outlinewidth\":0,\"ticks\":\"\"}},\"type\":\"scatter3d\"}],\"scattercarpet\":[{\"marker\":{\"colorbar\":{\"outlinewidth\":0,\"ticks\":\"\"}},\"type\":\"scattercarpet\"}],\"scattergeo\":[{\"marker\":{\"colorbar\":{\"outlinewidth\":0,\"ticks\":\"\"}},\"type\":\"scattergeo\"}],\"scattergl\":[{\"marker\":{\"colorbar\":{\"outlinewidth\":0,\"ticks\":\"\"}},\"type\":\"scattergl\"}],\"scattermapbox\":[{\"marker\":{\"colorbar\":{\"outlinewidth\":0,\"ticks\":\"\"}},\"type\":\"scattermapbox\"}],\"scatterpolargl\":[{\"marker\":{\"colorbar\":{\"outlinewidth\":0,\"ticks\":\"\"}},\"type\":\"scatterpolargl\"}],\"scatterpolar\":[{\"marker\":{\"colorbar\":{\"outlinewidth\":0,\"ticks\":\"\"}},\"type\":\"scatterpolar\"}],\"scatter\":[{\"marker\":{\"colorbar\":{\"outlinewidth\":0,\"ticks\":\"\"}},\"type\":\"scatter\"}],\"scatterternary\":[{\"marker\":{\"colorbar\":{\"outlinewidth\":0,\"ticks\":\"\"}},\"type\":\"scatterternary\"}],\"surface\":[{\"colorbar\":{\"outlinewidth\":0,\"ticks\":\"\"},\"colorscale\":[[0.0,\"#0d0887\"],[0.1111111111111111,\"#46039f\"],[0.2222222222222222,\"#7201a8\"],[0.3333333333333333,\"#9c179e\"],[0.4444444444444444,\"#bd3786\"],[0.5555555555555556,\"#d8576b\"],[0.6666666666666666,\"#ed7953\"],[0.7777777777777778,\"#fb9f3a\"],[0.8888888888888888,\"#fdca26\"],[1.0,\"#f0f921\"]],\"type\":\"surface\"}],\"table\":[{\"cells\":{\"fill\":{\"color\":\"#EBF0F8\"},\"line\":{\"color\":\"white\"}},\"header\":{\"fill\":{\"color\":\"#C8D4E3\"},\"line\":{\"color\":\"white\"}},\"type\":\"table\"}]},\"layout\":{\"annotationdefaults\":{\"arrowcolor\":\"#2a3f5f\",\"arrowhead\":0,\"arrowwidth\":1},\"autotypenumbers\":\"strict\",\"coloraxis\":{\"colorbar\":{\"outlinewidth\":0,\"ticks\":\"\"}},\"colorscale\":{\"diverging\":[[0,\"#8e0152\"],[0.1,\"#c51b7d\"],[0.2,\"#de77ae\"],[0.3,\"#f1b6da\"],[0.4,\"#fde0ef\"],[0.5,\"#f7f7f7\"],[0.6,\"#e6f5d0\"],[0.7,\"#b8e186\"],[0.8,\"#7fbc41\"],[0.9,\"#4d9221\"],[1,\"#276419\"]],\"sequential\":[[0.0,\"#0d0887\"],[0.1111111111111111,\"#46039f\"],[0.2222222222222222,\"#7201a8\"],[0.3333333333333333,\"#9c179e\"],[0.4444444444444444,\"#bd3786\"],[0.5555555555555556,\"#d8576b\"],[0.6666666666666666,\"#ed7953\"],[0.7777777777777778,\"#fb9f3a\"],[0.8888888888888888,\"#fdca26\"],[1.0,\"#f0f921\"]],\"sequentialminus\":[[0.0,\"#0d0887\"],[0.1111111111111111,\"#46039f\"],[0.2222222222222222,\"#7201a8\"],[0.3333333333333333,\"#9c179e\"],[0.4444444444444444,\"#bd3786\"],[0.5555555555555556,\"#d8576b\"],[0.6666666666666666,\"#ed7953\"],[0.7777777777777778,\"#fb9f3a\"],[0.8888888888888888,\"#fdca26\"],[1.0,\"#f0f921\"]]},\"colorway\":[\"#636efa\",\"#EF553B\",\"#00cc96\",\"#ab63fa\",\"#FFA15A\",\"#19d3f3\",\"#FF6692\",\"#B6E880\",\"#FF97FF\",\"#FECB52\"],\"font\":{\"color\":\"#2a3f5f\"},\"geo\":{\"bgcolor\":\"white\",\"lakecolor\":\"white\",\"landcolor\":\"#E5ECF6\",\"showlakes\":true,\"showland\":true,\"subunitcolor\":\"white\"},\"hoverlabel\":{\"align\":\"left\"},\"hovermode\":\"closest\",\"mapbox\":{\"style\":\"light\"},\"paper_bgcolor\":\"white\",\"plot_bgcolor\":\"#E5ECF6\",\"polar\":{\"angularaxis\":{\"gridcolor\":\"white\",\"linecolor\":\"white\",\"ticks\":\"\"},\"bgcolor\":\"#E5ECF6\",\"radialaxis\":{\"gridcolor\":\"white\",\"linecolor\":\"white\",\"ticks\":\"\"}},\"scene\":{\"xaxis\":{\"backgroundcolor\":\"#E5ECF6\",\"gridcolor\":\"white\",\"gridwidth\":2,\"linecolor\":\"white\",\"showbackground\":true,\"ticks\":\"\",\"zerolinecolor\":\"white\"},\"yaxis\":{\"backgroundcolor\":\"#E5ECF6\",\"gridcolor\":\"white\",\"gridwidth\":2,\"linecolor\":\"white\",\"showbackground\":true,\"ticks\":\"\",\"zerolinecolor\":\"white\"},\"zaxis\":{\"backgroundcolor\":\"#E5ECF6\",\"gridcolor\":\"white\",\"gridwidth\":2,\"linecolor\":\"white\",\"showbackground\":true,\"ticks\":\"\",\"zerolinecolor\":\"white\"}},\"shapedefaults\":{\"line\":{\"color\":\"#2a3f5f\"}},\"ternary\":{\"aaxis\":{\"gridcolor\":\"white\",\"linecolor\":\"white\",\"ticks\":\"\"},\"baxis\":{\"gridcolor\":\"white\",\"linecolor\":\"white\",\"ticks\":\"\"},\"bgcolor\":\"#E5ECF6\",\"caxis\":{\"gridcolor\":\"white\",\"linecolor\":\"white\",\"ticks\":\"\"}},\"title\":{\"x\":0.05},\"xaxis\":{\"automargin\":true,\"gridcolor\":\"white\",\"linecolor\":\"white\",\"ticks\":\"\",\"title\":{\"standoff\":15},\"zerolinecolor\":\"white\",\"zerolinewidth\":2},\"yaxis\":{\"automargin\":true,\"gridcolor\":\"white\",\"linecolor\":\"white\",\"ticks\":\"\",\"title\":{\"standoff\":15},\"zerolinecolor\":\"white\",\"zerolinewidth\":2}}},\"title\":{\"text\":\"3D Embedding of Simulations\"},\"margin\":{\"b\":0,\"l\":0,\"r\":0,\"t\":0},\"hovermode\":\"closest\"},                        {\"responsive\": true}                    ).then(function(){\n",
              "                            \n",
              "var gd = document.getElementById('39f37e53-913f-4e6b-bec6-beca99068bd2');\n",
              "var x = new MutationObserver(function (mutations, observer) {{\n",
              "        var display = window.getComputedStyle(gd).display;\n",
              "        if (!display || display === 'none') {{\n",
              "            console.log([gd, 'removed!']);\n",
              "            Plotly.purge(gd);\n",
              "            observer.disconnect();\n",
              "        }}\n",
              "}});\n",
              "\n",
              "// Listen for the removal of the full notebook cells\n",
              "var notebookContainer = gd.closest('#notebook-container');\n",
              "if (notebookContainer) {{\n",
              "    x.observe(notebookContainer, {childList: true});\n",
              "}}\n",
              "\n",
              "// Listen for the clearing of the current output cell\n",
              "var outputEl = gd.closest('.output');\n",
              "if (outputEl) {{\n",
              "    x.observe(outputEl, {childList: true});\n",
              "}}\n",
              "\n",
              "                        })                };                            </script>        </div>\n",
              "</body>\n",
              "</html>"
            ]
          },
          "metadata": {}
        }
      ],
      "source": [
        "# create basic graph\n",
        "fig = go.FigureWidget(\n",
        "    data=[\n",
        "        dict(\n",
        "            type='scatter3d',\n",
        "            x=data_x_transformed[:, 0],\n",
        "            y=data_x_transformed[:, 1],\n",
        "            z=data_x_transformed[:, 2],\n",
        "            mode='markers',\n",
        "            name=\"Embedding Simulation\",\n",
        "            marker={\n",
        "               \"size\": 5\n",
        "            },\n",
        "            text=filepath_list,\n",
        "            hoverinfo=\"text\",\n",
        "            opacity=0.99\n",
        "        )\n",
        "    ]\n",
        ")\n",
        "\n",
        "# create image widget\n",
        "img_scale = 1.2\n",
        "width = 500 * img_scale \n",
        "height = 375 * img_scale\n",
        "\n",
        "image_widget = Image(\n",
        "    value=image_data[0],\n",
        "    layout=Layout(height=f'{height}px', width=f'{width}px')\n",
        ")\n",
        "\n",
        "# select widget\n",
        "scatter = fig.data[0]\n",
        "\n",
        "# define hover function for scatter\n",
        "# to show images on hover\n",
        "def hover_fn(trace, points, state):\n",
        "\n",
        "    ind = points.point_inds[0]\n",
        "    filepath = filepath_list[ind]\n",
        "    name = ntpath.basename(filepath).split('.')[0].replace(\"run\",\"\")\n",
        "    number = int(name)\n",
        "\n",
        "    # Update image widget\n",
        "    image_widget.value = image_data[number]\n",
        "\n",
        "scatter.on_hover(hover_fn)\n",
        "\n",
        "# some styling \n",
        "fig.update_layout(title='3D Embedding of Simulations',\n",
        "                  margin=go.layout.Margin(\n",
        "                    l=0, #left margin\n",
        "                    r=0, #right margin\n",
        "                    b=0, #bottom margin\n",
        "                    t=0  #top margin\n",
        "                  ),\n",
        "                  hovermode=\"closest\",\n",
        "                 )\n",
        "\n",
        "#import inspect\n",
        "#print([e[0] for e in inspect.getmembers(image_widget)])\n",
        "\n",
        "from ipywidgets import HBox, VBox\n",
        "HBox([fig,\n",
        "      image_widget])\n",
        "\n",
        "#fig\n",
        "fig.show()\n",
        "#image_widget"
      ]
    },
    {
      "cell_type": "code",
      "execution_count": null,
      "metadata": {
        "id": "HRFPnecmAK_Q"
      },
      "outputs": [],
      "source": []
    }
  ],
  "metadata": {
    "kernelspec": {
      "display_name": "Python 3",
      "language": "python",
      "name": "python3"
    },
    "language_info": {
      "codemirror_mode": {
        "name": "ipython",
        "version": 3
      },
      "file_extension": ".py",
      "mimetype": "text/x-python",
      "name": "python",
      "nbconvert_exporter": "python",
      "pygments_lexer": "ipython3",
      "version": "3.8.5"
    },
    "colab": {
      "provenance": [],
      "include_colab_link": true
    }
  },
  "nbformat": 4,
  "nbformat_minor": 0
}