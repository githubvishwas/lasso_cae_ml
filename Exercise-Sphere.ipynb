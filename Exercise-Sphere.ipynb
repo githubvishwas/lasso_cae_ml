{
 "cells": [
  {
   "cell_type": "code",
   "execution_count": 2,
   "metadata": {},
   "outputs": [],
   "source": [
    "from lasso.dyna.D3plot import D3plot\n",
    "from lasso.dyna.ArrayType import ArrayType\n",
    "from lasso.dimred.sphere import *\n",
    "\n",
    "from typing import List, Dict, Union, Tuple, Set\n",
    "\n",
    "import matplotlib.pyplot as plt\n",
    "import plotly.graph_objects as go\n",
    "from ipywidgets import Image, Layout\n",
    "\n",
    "import math\n",
    "import numpy as np\n",
    "import ntpath\n",
    "import glob\n",
    "import re"
   ]
  },
  {
   "cell_type": "code",
   "execution_count": 3,
   "metadata": {},
   "outputs": [
    {
     "name": "stdout",
     "output_type": "stream",
     "text": [
      "Found 100 files.\n"
     ]
    }
   ],
   "source": [
    "filepath_list = glob.glob(\"exercise-1/d3plots/*.d3plot\")\n",
    "print(f\"Found {len(filepath_list)} files.\")"
   ]
  },
  {
   "cell_type": "code",
   "execution_count": 4,
   "metadata": {},
   "outputs": [
    {
     "name": "stdout",
     "output_type": "stream",
     "text": [
      "Done (100/100)ise-1/d3plots\\run99.d3plot (100/100)\n"
     ]
    }
   ],
   "source": [
    "# we select the last timestep\n",
    "last_timestep = -1\n",
    "\n",
    "# let's collect node displacement from all d3plots\n",
    "fields = []\n",
    "\n",
    "for i_filepath, filepath in enumerate(filepath_list):\n",
    "    \n",
    "    # print progress\n",
    "    print(f\"filepath {filepath} ({i_filepath + 1}/{len(filepath_list)})\", end='\\r')\n",
    "    \n",
    "    # load d3plot\n",
    "    d3plot = D3plot(filepath)\n",
    "    \n",
    "    # extract node displacement at last timestep\n",
    "    node_displacement = d3plot.arrays[ArrayType.node_displacement]\n",
    "    fields.append(node_displacement[last_timestep])\n",
    "\n",
    "# print end\n",
    "print(f\"Done ({i_filepath + 1}/{len(filepath_list)})\")"
   ]
  },
  {
   "cell_type": "code",
   "execution_count": 13,
   "metadata": {},
   "outputs": [
    {
     "name": "stdout",
     "output_type": "stream",
     "text": [
      "(2500, 3)\n"
     ]
    }
   ],
   "source": [
    "# load base model coordinates\n",
    "plt = D3plot(filepath_list[0])\n",
    "node_coords = plt.arrays[\"node_coordinates\"]\n",
    "print(node_coords.shape)"
   ]
  },
  {
   "cell_type": "code",
   "execution_count": 14,
   "metadata": {},
   "outputs": [
    {
     "name": "stdout",
     "output_type": "stream",
     "text": [
      "(n_simulations, n_nodes, xyz)\n",
      "(100, 2500, 3)\n"
     ]
    }
   ],
   "source": [
    "# convert list into a numpy array\n",
    "data = np.stack(fields)\n",
    "\n",
    "print(\"(n_simulations, n_nodes, xyz)\")\n",
    "print(data.shape)"
   ]
  },
  {
   "cell_type": "code",
   "execution_count": 7,
   "metadata": {},
   "outputs": [
    {
     "name": "stdout",
     "output_type": "stream",
     "text": [
      "exercise-1/images\\99.png\n"
     ]
    }
   ],
   "source": [
    "# load images\n",
    "image_data = {}\n",
    "for img_filepath in glob.glob('exercise-1/images/*.png'):\n",
    "    with open(img_filepath, \"rb\") as f:\n",
    "        print(img_filepath, end='\\r')\n",
    "        number = ntpath.basename(img_filepath).split('.')[0]\n",
    "        image_data[int(number)] = f.read()\n",
    "print()"
   ]
  },
  {
   "cell_type": "code",
   "execution_count": 8,
   "metadata": {},
   "outputs": [],
   "source": [
    "# create embedding space where we store the projected results\n",
    "histo = create_historgram(node_coords,'X',True)\n"
   ]
  },
  {
   "cell_type": "code",
   "execution_count": 9,
   "metadata": {},
   "outputs": [],
   "source": [
    "n_models = len(data)\n",
    "\n",
    "# perform hashing\n",
    "# where to store all results\n",
    "hashes = np.empty((n_models, 144*144), dtype=float)\n",
    "\n",
    "for ii in range(n_models):\n",
    "    # compute distance\n",
    "    diff = data[ii] - node_coords[np.newaxis, :, :]\n",
    "    \n",
    "    # for this embedding we choose to use the node displacment\n",
    "    # as a field value, one can also use the element p_strain\n",
    "    # or stresses\n",
    "    # we take the l2-norm of the diff so that we have\n",
    "    # one scalar value we can map to a point\n",
    "    part_fields = np.linalg.norm(diff, axis=2)\n",
    "\n",
    "    # map the field values to the embedding space\n",
    "    hashes[ii] = sphere_hashing(\n",
    "        histo, part_fields[-1, :])\n"
   ]
  },
  {
   "cell_type": "code",
   "execution_count": 10,
   "metadata": {},
   "outputs": [],
   "source": [
    "# perform mds\n",
    "smatrix = compute_similarity(hashes)\n",
    "\n",
    "mds = MDS(n_components=3,\n",
    "          metric=True,\n",
    "          n_init=4,\n",
    "          max_iter=3000,\n",
    "          verbose=0,\n",
    "          eps=1e-5,\n",
    "          dissimilarity='precomputed',\n",
    "          n_jobs=4, )\n",
    "\n",
    "# dissimilatiry hence we subtract from one\n",
    "pos = mds.fit(1-smatrix).embedding_"
   ]
  },
  {
   "cell_type": "code",
   "execution_count": 11,
   "metadata": {},
   "outputs": [],
   "source": [
    "# plot stuff and mds interaction\n",
    "image_widget = Image(\n",
    "    value=image_data[0],\n",
    "    layout=Layout(height='500px', width='375px')\n",
    ")\n",
    "\n",
    "# plot\n",
    "fig = go.FigureWidget(\n",
    "    data=[\n",
    "        dict(\n",
    "            type='scatter3d',\n",
    "            x=pos[:, 0],\n",
    "            y=pos[:, 1],\n",
    "            z=pos[:, 2],\n",
    "            mode='markers',\n",
    "            marker={\n",
    "               \"size\": 3\n",
    "            },\n",
    "            opacity=.80,\n",
    "            text=filepath_list,\n",
    "            hoverinfo=\"text\",\n",
    "        )\n",
    "    ],\n",
    ")\n",
    "scatter = fig.data[0]\n",
    "scatter\n",
    "\n",
    "\n",
    "def hover_fn(trace, points, state):\n",
    "    ind = points.point_inds[0]\n",
    "    filepath = filepath_list[ind]\n",
    "    name = ntpath.basename(filepath).split('.')[0]\n",
    "    number = int(re.search(r'\\d+', name).group())\n",
    "\n",
    "    # Update image widget\n",
    "    image_widget.value = image_data[number]\n",
    "\n",
    "scatter.on_hover(hover_fn)\n",
    "\n"
   ]
  },
  {
   "cell_type": "code",
   "execution_count": 15,
   "metadata": {},
   "outputs": [
    {
     "data": {
      "application/vnd.jupyter.widget-view+json": {
       "model_id": "d4a8dd9e6bbe495593709d5cbbd083f2",
       "version_major": 2,
       "version_minor": 0
      },
      "text/plain": [
       "HBox(children=(FigureWidget({\n",
       "    'data': [{'hoverinfo': 'text',\n",
       "              'marker': {'size': 3},\n",
       "        …"
      ]
     },
     "metadata": {},
     "output_type": "display_data"
    }
   ],
   "source": [
    "from ipywidgets import HBox, VBox\n",
    "HBox([fig,\n",
    "      image_widget])"
   ]
  }
 ],
 "metadata": {
  "kernelspec": {
   "display_name": "Python 3",
   "language": "python",
   "name": "python3"
  },
  "language_info": {
   "codemirror_mode": {
    "name": "ipython",
    "version": 3
   },
   "file_extension": ".py",
   "mimetype": "text/x-python",
   "name": "python",
   "nbconvert_exporter": "python",
   "pygments_lexer": "ipython3",
   "version": "3.8.5"
  }
 },
 "nbformat": 4,
 "nbformat_minor": 4
}
